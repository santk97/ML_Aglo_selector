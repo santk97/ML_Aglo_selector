{
 "cells": [
  {
   "cell_type": "code",
   "execution_count": 826,
   "metadata": {},
   "outputs": [],
   "source": [
    "from tkinter import *\n",
    "from tkinter import filedialog\n",
    "from tkinter import  messagebox\n",
    "from tkinter import ttk"
   ]
  },
  {
   "cell_type": "code",
   "execution_count": 827,
   "metadata": {},
   "outputs": [],
   "source": [
    "root=Tk()\n",
    "root.geometry(\"{0}x{1}+0+0\".format(root.winfo_screenwidth(), root.winfo_screenheight()))\n",
    "root.resizable(0,0)\n",
    "root.title(\"Algorithm Accuracy Preditor\")\n",
    "head=Label(root,text=\"Algorithm Accuracy Predictor \",relief='groove',)\n",
    "\n",
    "head.config(font=('Times New Roman',32))\n",
    "head.place(relx=0.3,rely=0.01)"
   ]
  },
  {
   "cell_type": "code",
   "execution_count": 828,
   "metadata": {},
   "outputs": [],
   "source": [
    "def browsefunc():\n",
    "\n",
    "    filename = filedialog.askopenfilename()\n",
    "    path_entry.config(text=\"PAth to the File :\"+filename)\n",
    "    path_entry.insert(0,filename)\n",
    "\n",
    "browsebutton = Button(root, text=\"Browse to Path\", command=browsefunc,width=20,height=1)\n",
    "browsebutton.place(relx=0.045,rely=0.23)root=Tk()\n",
    "root.geometry(\"{0}x{1}+0+0\".format(root.winfo_screenwidth(), root.winfo_screenheight()))\n",
    "root.resizable(0,0)\n",
    "root.title(\"Algorithm Accuracy Preditor\")\n",
    "head=Label(root,text=\"Algorithm Accuracy Predictor \",relief='groove',)\n",
    "\n",
    "head.config(font=('Times New Roman',32))\n",
    "head.place(relx=0.3,rely=0.01)\n",
    "path_entry = Entry(root,width=40,borderwidth=2,relief=\"groove\")\n",
    "path_entry.place(relx=0.03,rely=0.19)\n",
    "path_entry.config(font=('Times New Roman',12),)"
   ]
  },
  {
   "cell_type": "code",
   "execution_count": 829,
   "metadata": {},
   "outputs": [],
   "source": [
    "def upload_filepath():\n",
    "    if len(path_entry.get())==0:\n",
    "        messagebox.showerror(\"WRONG FILE TYPE\",\"THE FILE IS NOT VALID or EMPTY. UPLOAD AGAIN.\")\n",
    "\n",
    "upload_button=Button(root,text=\"Upload File\",foreground=\"red\",command=upload_filepath)\n",
    "upload_button.place(relx=0.18,rely=0.23)\n",
    "Label(root,text=\"Strategy :\",font=('Times New Roman',15)).place(relx=0.45,rely=0.18)\n",
    "strategy=StringVar()\n",
    "rad1=Radiobutton (root,text=\"Mean\",value=\"mean\",variable=strategy,font=(\"Times New Roman\",12))\n",
    "rad1.place(relx=0.33,rely=0.23)\n",
    "rad1=Radiobutton(root,text=\"Median\",value=\"median\",variable=strategy,font=(\"Times New Roman\",12))\n",
    "rad1.place(relx=0.43,rely=0.23)\n",
    "rad1=Radiobutton(root,text=\"Mode\",value=\"mode\",variable=strategy,font=(\"Times New Roman\",12))\n",
    "rad1.place(relx=0.53,rely=0.23)"
   ]
  },
  {
   "cell_type": "code",
   "execution_count": 830,
   "metadata": {},
   "outputs": [],
   "source": [
    "# code for graphs\n",
    "graph=StringVar()\n",
    "Label(root,text=\"Viusalise the Data\",font=(\"Times New Roman\",16)).place(relx=0.70,rely=0.17)\n",
    "graph_op=ttk.Combobox(root,textvariable=graph,state='readonly',font=(\"Times New Roman\",14))\n",
    "graph_op.set(\"Bar Graph\")\n",
    "graph_op['values']=['Bar Graph',\"Violin Plot\"]\n",
    "graph_op.place(rely=0.23,relx=0.70)\n",
    "plot_graph=Button(root,text=\"Plot Grpah\",font=(\"Times New Roman\",14))\n",
    "plot_graph.place(relx=0.87,rely=0.22)"
   ]
  },
  {
   "cell_type": "code",
   "execution_count": 831,
   "metadata": {},
   "outputs": [],
   "source": [
    "# Encoding the data\n",
    "Label(root,text=\"Select the Column to be encoded :\",font=(\"Times New Roman\",15)).place(relx=0.1,rely=0.34)\n",
    "col_no=IntVar()\n",
    "enc_col=ttk.Combobox(root,textvariable=col_no,state='readonly',font=(\"Times New Roman\",14))\n",
    "enc_col.set(\"Choose Col. for encoding\")\n",
    "enc_col['values']=list(range(10))\n",
    "enc_col.place(relx=0.1,rely=0.42)\n",
    "onehot_but=Button(root,text=\"Encode \",font=(\"Times New Roman\",14))\n",
    "onehot_but.place(relx=0.28,rely=0.42)"
   ]
  },
  {
   "cell_type": "code",
   "execution_count": 832,
   "metadata": {},
   "outputs": [],
   "source": [
    "Label (root,text=\"Train to Test Split ratio\",font=(\"Times NEw Roman\",15)).place(relx=0.45,rely=0.34)\n",
    "w = Scale(root, from_=0, to=100,orient=HORIZONTAL,width=30,length=160,cursor =\"arrow\",bd=4,tickinterval=20)\n",
    "w.set(70)\n",
    "w.place(relx=0.46,rely=0.38)\n",
    "def get_ratio():\n",
    "    ratio=w.get()/100\n",
    "    print (\"the trian test split ratio is :\",ratio)\n",
    "split_but=Button(root,text=\"Split the data\",command=get_ratio,height=1,width=13,font=(\"Times New Roman\",12))\n",
    "split_but.place(relx=0.60,rely=0.41)"
   ]
  },
  {
   "cell_type": "code",
   "execution_count": 833,
   "metadata": {},
   "outputs": [],
   "source": [
    "#the alogorithm combobox\n",
    "Label(root,text=\"Select the algorithm \",font=(\"Times NEw Roman\",24)).place(relx=0.40,rely=0.6)\n",
    "algo=StringVar()\n",
    "algo_list=ttk.Combobox(root,textvariable=algo,state='readonly',font=(\"Times New Roman\",18))\n",
    "algo_list.set(\"Choose Your Algorithm\")\n",
    "algo_list['values']=[\"Linear Regression \", \"SVM\", \"Logistic Regression\", \" Decision Tree\", \"Random Forest\"]\n",
    "algo_list.place(relx=0.3, rely=0.71)\n",
    "final_but=Button(root,text=\"Apply the Algorithm \",font=(\"Times New Roman\",17))\n",
    "final_but.place(relx=0.55,rely=0.70)"
   ]
  },
  {
   "cell_type": "code",
   "execution_count": 834,
   "metadata": {},
   "outputs": [],
   "source": [
    "show_result=Button(root,text=\"Show Accuracy\",font=(\"Times New Roman\",15))\n",
    "show_result.place(relx=0.35,rely=0.85)\n",
    "result=Label(root,text=\"Accuracy :   \",relief='groove')\n",
    "result.config(font=('Times New Roman',24))\n",
    "result.place(relx=0.5,rely=0.85)"
   ]
  },
  {
   "cell_type": "code",
   "execution_count": 835,
   "metadata": {},
   "outputs": [],
   "source": [
    "root.mainloop()"
   ]
  }
 ],
 "metadata": {
  "kernelspec": {
   "display_name": "Python 3",
   "language": "python",
   "name": "python3"
  },
  "language_info": {
   "codemirror_mode": {
    "name": "ipython",
    "version": 3.0
   },
   "file_extension": ".py",
   "mimetype": "text/x-python",
   "name": "python",
   "nbconvert_exporter": "python",
   "pygments_lexer": "ipython3",
   "version": "3.6.5"
  }
 },
 "nbformat": 4,
 "nbformat_minor": 0
}